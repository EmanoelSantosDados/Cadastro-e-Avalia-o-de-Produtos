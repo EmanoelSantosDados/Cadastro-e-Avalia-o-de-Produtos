{
  "nbformat": 4,
  "nbformat_minor": 0,
  "metadata": {
    "colab": {
      "provenance": [],
      "authorship_tag": "ABX9TyN1Nl9Q3GHidO5+USRd3XuI",
      "include_colab_link": true
    },
    "kernelspec": {
      "name": "python3",
      "display_name": "Python 3"
    },
    "language_info": {
      "name": "python"
    }
  },
  "cells": [
    {
      "cell_type": "markdown",
      "metadata": {
        "id": "view-in-github",
        "colab_type": "text"
      },
      "source": [
        "<a href=\"https://colab.research.google.com/github/EmanoelSantosDados/Cadastro-e-Avalia-o-de-Produtos/blob/main/untitled.ipynb\" target=\"_parent\"><img src=\"https://colab.research.google.com/assets/colab-badge.svg\" alt=\"Open In Colab\"/></a>"
      ]
    },
    {
      "cell_type": "code",
      "execution_count": null,
      "metadata": {
        "id": "gpNASXSrACGJ"
      },
      "outputs": [],
      "source": [
        "produtos = {}     # Lista para armazenar os produtos\n",
        "\n",
        "\n",
        "for i in range(1, 4):\n",
        "    print(f\"\\nDigite os dados do produto {i}:\")\n",
        "\n",
        "    nome = input(\"Nome do produto: \").strip().lower()\n",
        "    preco = float(input(\"Preço (ex: 25.90): \"))\n",
        "    quantidade = int(input(\"Quantidade em estoque: \"))\n",
        "\n",
        "    disponivel_str = input(\"Está disponível para venda? (sim/não): \").strip().lower()\n",
        "    disponivel = True if disponivel_str == \"sim\" else False\n",
        "\n",
        "    produtos[nome] = (preco, quantidade, disponivel)\n",
        "\n",
        "# Mostrando todos os produtos cadastrados\n",
        "print(\"\\n--- Produtos Cadastrados ---\")\n",
        "for nome, dados in produtos.items():\n",
        "    print(f\"{nome}: {dados}\")\n",
        "\n",
        "# Calculando o valor total em estoque\n",
        "valor_total = 0\n",
        "produtos_disponiveis = []\n",
        "\n",
        "for nome, (preco, quantidade, disponivel) in produtos.items():\n",
        "    valor_total += preco * quantidade\n",
        "    if disponivel:\n",
        "        produtos_disponiveis.append(nome)\n",
        "\n",
        "# Mostrando o relatório\n",
        "print(\"\\n--- Relatório ---\")\n",
        "print(f\"Valor total em estoque: R$ {valor_total:,.2f}\")\n",
        "print(\"Produtos disponíveis para venda:\", \", \".join(produtos_disponiveis))"
      ]
    }
  ]
}